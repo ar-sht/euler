{
 "cells": [
  {
   "cell_type": "code",
   "execution_count": 3,
   "id": "8069fcdc",
   "metadata": {},
   "outputs": [
    {
     "data": {
      "text/plain": [
       "76576500.0"
      ]
     },
     "execution_count": 3,
     "metadata": {},
     "output_type": "execute_result"
    }
   ],
   "source": [
    "import math\n",
    "\n",
    "def count_divs(n):\n",
    "    count = 2\n",
    "    for i in range(2, math.floor(math.sqrt(n)) + 1):\n",
    "        if n % i == 0: count += 2\n",
    "    if int(math.sqrt(n)) == math.sqrt(n): count -= 1\n",
    "    return count\n",
    "\n",
    "most_divs = 0\n",
    "i = 0\n",
    "while most_divs <= 500:\n",
    "    i += 1\n",
    "    tri_num = (i * (i + 1)) / 2\n",
    "    most_divs = max(most_divs, count_divs(tri_num))\n",
    "\n",
    "(i * (i + 1) / 2)"
   ]
  },
  {
   "cell_type": "code",
   "execution_count": 4,
   "id": "d5daaf3c",
   "metadata": {},
   "outputs": [
    {
     "data": {
      "text/plain": [
       "576"
      ]
     },
     "execution_count": 4,
     "metadata": {},
     "output_type": "execute_result"
    }
   ],
   "source": [
    "count_divs(76576500)"
   ]
  },
  {
   "cell_type": "code",
   "execution_count": null,
   "id": "6bb84bf2",
   "metadata": {},
   "outputs": [],
   "source": []
  }
 ],
 "metadata": {
  "kernelspec": {
   "display_name": "Python 3 (ipykernel)",
   "language": "python",
   "name": "python3"
  },
  "language_info": {
   "codemirror_mode": {
    "name": "ipython",
    "version": 3
   },
   "file_extension": ".py",
   "mimetype": "text/x-python",
   "name": "python",
   "nbconvert_exporter": "python",
   "pygments_lexer": "ipython3",
   "version": "3.11.4"
  }
 },
 "nbformat": 4,
 "nbformat_minor": 5
}
