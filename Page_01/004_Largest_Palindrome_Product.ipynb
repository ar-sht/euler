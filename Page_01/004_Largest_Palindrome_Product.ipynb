{
 "cells": [
  {
   "cell_type": "code",
   "execution_count": 11,
   "id": "ddd3d18f",
   "metadata": {},
   "outputs": [
    {
     "data": {
      "text/plain": [
       "(906609, 913, 993)"
      ]
     },
     "execution_count": 11,
     "metadata": {},
     "output_type": "execute_result"
    }
   ],
   "source": [
    "def is_palindrome(n):\n",
    "    digits = str(n)\n",
    "    return digits == digits[::-1]\n",
    "\n",
    "highest = 0\n",
    "best_i = 0\n",
    "best_j = 0\n",
    "\n",
    "i = 999\n",
    "while i >= 100:\n",
    "    if i % 11 == 0:\n",
    "        j = 999\n",
    "        db = 1\n",
    "    else:\n",
    "        j = 990\n",
    "        db = 11\n",
    "    while j >= i:\n",
    "        n = i * j\n",
    "        if n < highest:\n",
    "            break\n",
    "        \n",
    "        if is_palindrome(n):\n",
    "            highest = n\n",
    "            best_i = i\n",
    "            best_j = j\n",
    "        j -= db\n",
    "    i -= 1\n",
    "highest, best_i, best_j"
   ]
  },
  {
   "cell_type": "code",
   "execution_count": null,
   "id": "1afabc88",
   "metadata": {},
   "outputs": [],
   "source": []
  }
 ],
 "metadata": {
  "kernelspec": {
   "display_name": "Python 3 (ipykernel)",
   "language": "python",
   "name": "python3"
  },
  "language_info": {
   "codemirror_mode": {
    "name": "ipython",
    "version": 3
   },
   "file_extension": ".py",
   "mimetype": "text/x-python",
   "name": "python",
   "nbconvert_exporter": "python",
   "pygments_lexer": "ipython3",
   "version": "3.11.4"
  }
 },
 "nbformat": 4,
 "nbformat_minor": 5
}
