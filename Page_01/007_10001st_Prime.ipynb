{
 "cells": [
  {
   "cell_type": "code",
   "execution_count": 2,
   "id": "9f790aca",
   "metadata": {},
   "outputs": [
    {
     "data": {
      "text/plain": [
       "(104743, 0.06869101524353027)"
      ]
     },
     "execution_count": 2,
     "metadata": {},
     "output_type": "execute_result"
    }
   ],
   "source": [
    "import time\n",
    "import math\n",
    "\n",
    "def is_prime(n):\n",
    "    for i in range(2, math.floor(n ** 0.5) + 1):\n",
    "        if n % i == 0:\n",
    "            return False\n",
    "    return True\n",
    "\n",
    "start = time.time()\n",
    "\n",
    "count = 2\n",
    "last_prime = 3\n",
    "while count < 10_001:\n",
    "    while True:\n",
    "        last_prime += 2\n",
    "        if is_prime(last_prime):\n",
    "            count += 1\n",
    "            break\n",
    "\n",
    "last_prime, time.time() - start"
   ]
  },
  {
   "cell_type": "code",
   "execution_count": null,
   "id": "ad998956",
   "metadata": {},
   "outputs": [],
   "source": []
  }
 ],
 "metadata": {
  "kernelspec": {
   "display_name": "Python 3 (ipykernel)",
   "language": "python",
   "name": "python3"
  },
  "language_info": {
   "codemirror_mode": {
    "name": "ipython",
    "version": 3
   },
   "file_extension": ".py",
   "mimetype": "text/x-python",
   "name": "python",
   "nbconvert_exporter": "python",
   "pygments_lexer": "ipython3",
   "version": "3.11.4"
  }
 },
 "nbformat": 4,
 "nbformat_minor": 5
}
