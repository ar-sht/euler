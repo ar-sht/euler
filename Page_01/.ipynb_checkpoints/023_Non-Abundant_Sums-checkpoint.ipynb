{
 "cells": [
  {
   "cell_type": "code",
   "execution_count": 1,
   "id": "8a140a1c",
   "metadata": {},
   "outputs": [],
   "source": [
    "def sum_divisors(n):\n",
    "    total = 1\n",
    "    p = 2\n",
    "    while p*p <= n and n > 1:\n",
    "        if n % p == 0:\n",
    "            j = p*p\n",
    "            n //= p\n",
    "            while n % p == 0:\n",
    "                j *= p\n",
    "                n //= p\n",
    "            total *= j - 1\n",
    "            total //= p - 1\n",
    "        if p == 2:\n",
    "            p = 3\n",
    "        else:\n",
    "            p += 2\n",
    "    if n > 1: total *= n + 1\n",
    "    return total"
   ]
  },
  {
   "cell_type": "code",
   "execution_count": 2,
   "id": "449a4d42",
   "metadata": {},
   "outputs": [],
   "source": [
    "def sum_proper_divisors(n):\n",
    "    return sum_divisors(n) - n"
   ]
  },
  {
   "cell_type": "code",
   "execution_count": null,
   "id": "4c167431",
   "metadata": {},
   "outputs": [],
   "source": [
    "for a in range(12, 28124):\n",
    "    for b in range(a, 28124):\n",
    "        if a + b > 28124:\n",
    "            continue\n",
    "        if sum_proper_divisors(a) "
   ]
  }
 ],
 "metadata": {
  "kernelspec": {
   "display_name": "Python 3 (ipykernel)",
   "language": "python",
   "name": "python3"
  },
  "language_info": {
   "codemirror_mode": {
    "name": "ipython",
    "version": 3
   },
   "file_extension": ".py",
   "mimetype": "text/x-python",
   "name": "python",
   "nbconvert_exporter": "python",
   "pygments_lexer": "ipython3",
   "version": "3.11.4"
  }
 },
 "nbformat": 4,
 "nbformat_minor": 5
}
