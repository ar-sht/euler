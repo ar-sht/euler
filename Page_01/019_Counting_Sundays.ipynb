{
 "cells": [
  {
   "cell_type": "code",
   "execution_count": 3,
   "id": "450ce1bb",
   "metadata": {},
   "outputs": [],
   "source": [
    "import datetime"
   ]
  },
  {
   "cell_type": "code",
   "execution_count": 12,
   "id": "66c8303e",
   "metadata": {},
   "outputs": [
    {
     "name": "stdout",
     "output_type": "stream",
     "text": [
      "1901-01-01\n"
     ]
    }
   ],
   "source": [
    "start = datetime.date(1901, 1, 1)\n",
    "print(start)"
   ]
  },
  {
   "cell_type": "code",
   "execution_count": 13,
   "id": "70f35f92",
   "metadata": {},
   "outputs": [
    {
     "data": {
      "text/plain": [
       "1"
      ]
     },
     "execution_count": 13,
     "metadata": {},
     "output_type": "execute_result"
    }
   ],
   "source": [
    "start.weekday()"
   ]
  },
  {
   "cell_type": "code",
   "execution_count": 17,
   "id": "87b57332",
   "metadata": {},
   "outputs": [
    {
     "name": "stdout",
     "output_type": "stream",
     "text": [
      "Today is Sunday, 1901-09-01\n",
      "Today is Sunday, 1901-12-01\n",
      "Today is Sunday, 1902-06-01\n",
      "Today is Sunday, 1903-02-01\n",
      "Today is Sunday, 1903-03-01\n",
      "Today is Sunday, 1903-11-01\n",
      "Today is Sunday, 1904-05-01\n",
      "Today is Sunday, 1905-01-01\n",
      "Today is Sunday, 1905-10-01\n",
      "Today is Sunday, 1906-04-01\n",
      "Today is Sunday, 1906-07-01\n",
      "Today is Sunday, 1907-09-01\n",
      "Today is Sunday, 1907-12-01\n",
      "Today is Sunday, 1908-03-01\n",
      "Today is Sunday, 1908-11-01\n",
      "Today is Sunday, 1909-08-01\n",
      "Today is Sunday, 1910-05-01\n",
      "Today is Sunday, 1911-01-01\n",
      "Today is Sunday, 1911-10-01\n",
      "Today is Sunday, 1912-09-01\n",
      "Today is Sunday, 1912-12-01\n",
      "Today is Sunday, 1913-06-01\n",
      "Today is Sunday, 1914-02-01\n",
      "Today is Sunday, 1914-03-01\n",
      "Today is Sunday, 1914-11-01\n",
      "Today is Sunday, 1915-08-01\n",
      "Today is Sunday, 1916-10-01\n",
      "Today is Sunday, 1917-04-01\n",
      "Today is Sunday, 1917-07-01\n",
      "Today is Sunday, 1918-09-01\n",
      "Today is Sunday, 1918-12-01\n",
      "Today is Sunday, 1919-06-01\n",
      "Today is Sunday, 1920-02-01\n",
      "Today is Sunday, 1920-08-01\n",
      "Today is Sunday, 1921-05-01\n",
      "Today is Sunday, 1922-01-01\n",
      "Today is Sunday, 1922-10-01\n",
      "Today is Sunday, 1923-04-01\n",
      "Today is Sunday, 1923-07-01\n",
      "Today is Sunday, 1924-06-01\n",
      "Today is Sunday, 1925-02-01\n",
      "Today is Sunday, 1925-03-01\n",
      "Today is Sunday, 1925-11-01\n",
      "Today is Sunday, 1926-08-01\n",
      "Today is Sunday, 1927-05-01\n",
      "Today is Sunday, 1928-01-01\n",
      "Today is Sunday, 1928-04-01\n",
      "Today is Sunday, 1928-07-01\n",
      "Today is Sunday, 1929-09-01\n",
      "Today is Sunday, 1929-12-01\n",
      "Today is Sunday, 1930-06-01\n",
      "Today is Sunday, 1931-02-01\n",
      "Today is Sunday, 1931-03-01\n",
      "Today is Sunday, 1931-11-01\n",
      "Today is Sunday, 1932-05-01\n",
      "Today is Sunday, 1933-01-01\n",
      "Today is Sunday, 1933-10-01\n",
      "Today is Sunday, 1934-04-01\n",
      "Today is Sunday, 1934-07-01\n",
      "Today is Sunday, 1935-09-01\n",
      "Today is Sunday, 1935-12-01\n",
      "Today is Sunday, 1936-03-01\n",
      "Today is Sunday, 1936-11-01\n",
      "Today is Sunday, 1937-08-01\n",
      "Today is Sunday, 1938-05-01\n",
      "Today is Sunday, 1939-01-01\n",
      "Today is Sunday, 1939-10-01\n",
      "Today is Sunday, 1940-09-01\n",
      "Today is Sunday, 1940-12-01\n",
      "Today is Sunday, 1941-06-01\n",
      "Today is Sunday, 1942-02-01\n",
      "Today is Sunday, 1942-03-01\n",
      "Today is Sunday, 1942-11-01\n",
      "Today is Sunday, 1943-08-01\n",
      "Today is Sunday, 1944-10-01\n",
      "Today is Sunday, 1945-04-01\n",
      "Today is Sunday, 1945-07-01\n",
      "Today is Sunday, 1946-09-01\n",
      "Today is Sunday, 1946-12-01\n",
      "Today is Sunday, 1947-06-01\n",
      "Today is Sunday, 1948-02-01\n",
      "Today is Sunday, 1948-08-01\n",
      "Today is Sunday, 1949-05-01\n",
      "Today is Sunday, 1950-01-01\n",
      "Today is Sunday, 1950-10-01\n",
      "Today is Sunday, 1951-04-01\n",
      "Today is Sunday, 1951-07-01\n",
      "Today is Sunday, 1952-06-01\n",
      "Today is Sunday, 1953-02-01\n",
      "Today is Sunday, 1953-03-01\n",
      "Today is Sunday, 1953-11-01\n",
      "Today is Sunday, 1954-08-01\n",
      "Today is Sunday, 1955-05-01\n",
      "Today is Sunday, 1956-01-01\n",
      "Today is Sunday, 1956-04-01\n",
      "Today is Sunday, 1956-07-01\n",
      "Today is Sunday, 1957-09-01\n",
      "Today is Sunday, 1957-12-01\n",
      "Today is Sunday, 1958-06-01\n",
      "Today is Sunday, 1959-02-01\n",
      "Today is Sunday, 1959-03-01\n",
      "Today is Sunday, 1959-11-01\n",
      "Today is Sunday, 1960-05-01\n",
      "Today is Sunday, 1961-01-01\n",
      "Today is Sunday, 1961-10-01\n",
      "Today is Sunday, 1962-04-01\n",
      "Today is Sunday, 1962-07-01\n",
      "Today is Sunday, 1963-09-01\n",
      "Today is Sunday, 1963-12-01\n",
      "Today is Sunday, 1964-03-01\n",
      "Today is Sunday, 1964-11-01\n",
      "Today is Sunday, 1965-08-01\n",
      "Today is Sunday, 1966-05-01\n",
      "Today is Sunday, 1967-01-01\n",
      "Today is Sunday, 1967-10-01\n",
      "Today is Sunday, 1968-09-01\n",
      "Today is Sunday, 1968-12-01\n",
      "Today is Sunday, 1969-06-01\n",
      "Today is Sunday, 1970-02-01\n",
      "Today is Sunday, 1970-03-01\n",
      "Today is Sunday, 1970-11-01\n",
      "Today is Sunday, 1971-08-01\n",
      "Today is Sunday, 1972-10-01\n",
      "Today is Sunday, 1973-04-01\n",
      "Today is Sunday, 1973-07-01\n",
      "Today is Sunday, 1974-09-01\n",
      "Today is Sunday, 1974-12-01\n",
      "Today is Sunday, 1975-06-01\n",
      "Today is Sunday, 1976-02-01\n",
      "Today is Sunday, 1976-08-01\n",
      "Today is Sunday, 1977-05-01\n",
      "Today is Sunday, 1978-01-01\n",
      "Today is Sunday, 1978-10-01\n",
      "Today is Sunday, 1979-04-01\n",
      "Today is Sunday, 1979-07-01\n",
      "Today is Sunday, 1980-06-01\n",
      "Today is Sunday, 1981-02-01\n",
      "Today is Sunday, 1981-03-01\n",
      "Today is Sunday, 1981-11-01\n",
      "Today is Sunday, 1982-08-01\n",
      "Today is Sunday, 1983-05-01\n",
      "Today is Sunday, 1984-01-01\n",
      "Today is Sunday, 1984-04-01\n",
      "Today is Sunday, 1984-07-01\n",
      "Today is Sunday, 1985-09-01\n",
      "Today is Sunday, 1985-12-01\n",
      "Today is Sunday, 1986-06-01\n",
      "Today is Sunday, 1987-02-01\n",
      "Today is Sunday, 1987-03-01\n",
      "Today is Sunday, 1987-11-01\n",
      "Today is Sunday, 1988-05-01\n",
      "Today is Sunday, 1989-01-01\n",
      "Today is Sunday, 1989-10-01\n",
      "Today is Sunday, 1990-04-01\n",
      "Today is Sunday, 1990-07-01\n",
      "Today is Sunday, 1991-09-01\n",
      "Today is Sunday, 1991-12-01\n",
      "Today is Sunday, 1992-03-01\n",
      "Today is Sunday, 1992-11-01\n",
      "Today is Sunday, 1993-08-01\n",
      "Today is Sunday, 1994-05-01\n",
      "Today is Sunday, 1995-01-01\n",
      "Today is Sunday, 1995-10-01\n",
      "Today is Sunday, 1996-09-01\n",
      "Today is Sunday, 1996-12-01\n",
      "Today is Sunday, 1997-06-01\n",
      "Today is Sunday, 1998-02-01\n",
      "Today is Sunday, 1998-03-01\n",
      "Today is Sunday, 1998-11-01\n",
      "Today is Sunday, 1999-08-01\n",
      "Today is Sunday, 2000-10-01\n"
     ]
    },
    {
     "data": {
      "text/plain": [
       "171"
      ]
     },
     "execution_count": 17,
     "metadata": {},
     "output_type": "execute_result"
    }
   ],
   "source": [
    "total = 0\n",
    "for year in range(1901, 2001):\n",
    "    for month in range(1, 13):\n",
    "        today = datetime.date(year, month, 1)\n",
    "        if today.weekday() == 6:\n",
    "            print(f\"Today is Sunday, {today}\")\n",
    "            total += 1\n",
    "total"
   ]
  },
  {
   "cell_type": "code",
   "execution_count": null,
   "id": "adc89115",
   "metadata": {},
   "outputs": [],
   "source": []
  }
 ],
 "metadata": {
  "kernelspec": {
   "display_name": "Python 3 (ipykernel)",
   "language": "python",
   "name": "python3"
  },
  "language_info": {
   "codemirror_mode": {
    "name": "ipython",
    "version": 3
   },
   "file_extension": ".py",
   "mimetype": "text/x-python",
   "name": "python",
   "nbconvert_exporter": "python",
   "pygments_lexer": "ipython3",
   "version": "3.11.4"
  }
 },
 "nbformat": 4,
 "nbformat_minor": 5
}
