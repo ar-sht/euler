{
 "cells": [
  {
   "cell_type": "code",
   "execution_count": 11,
   "id": "dc1626ba",
   "metadata": {},
   "outputs": [
    {
     "data": {
      "text/plain": [
       "142913828922"
      ]
     },
     "execution_count": 11,
     "metadata": {},
     "output_type": "execute_result"
    }
   ],
   "source": [
    "import math\n",
    "\n",
    "def is_prime(n):\n",
    "    for i in range(2, math.floor(math.sqrt(n)) + 1):\n",
    "        if n % i == 0: return False\n",
    "    return True\n",
    "\n",
    "limit = 2_000_000\n",
    "total = 5\n",
    "num = 5\n",
    "while num < limit:\n",
    "    total += num\n",
    "    while True:\n",
    "        num += 2\n",
    "        if is_prime(num):\n",
    "            break\n",
    "total"
   ]
  },
  {
   "cell_type": "code",
   "execution_count": null,
   "id": "5582dc92",
   "metadata": {},
   "outputs": [],
   "source": []
  }
 ],
 "metadata": {
  "kernelspec": {
   "display_name": "Python 3 (ipykernel)",
   "language": "python",
   "name": "python3"
  },
  "language_info": {
   "codemirror_mode": {
    "name": "ipython",
    "version": 3
   },
   "file_extension": ".py",
   "mimetype": "text/x-python",
   "name": "python",
   "nbconvert_exporter": "python",
   "pygments_lexer": "ipython3",
   "version": "3.11.4"
  }
 },
 "nbformat": 4,
 "nbformat_minor": 5
}
