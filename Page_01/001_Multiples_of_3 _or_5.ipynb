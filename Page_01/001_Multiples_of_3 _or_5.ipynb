{
 "cells": [
  {
   "cell_type": "code",
   "execution_count": 5,
   "id": "f76ca8ac",
   "metadata": {},
   "outputs": [
    {
     "data": {
      "text/plain": [
       "233168"
      ]
     },
     "execution_count": 5,
     "metadata": {},
     "output_type": "execute_result"
    }
   ],
   "source": [
    "target = 999\n",
    "def sum_divisible_by(n):\n",
    "    p = target // n\n",
    "    return n * (p * (p + 1)) // 2\n",
    "\n",
    "sum_divisible_by(3) + sum_divisible_by(5) - sum_divisible_by(15)"
   ]
  },
  {
   "cell_type": "code",
   "execution_count": null,
   "id": "38bbec3b",
   "metadata": {},
   "outputs": [],
   "source": []
  }
 ],
 "metadata": {
  "kernelspec": {
   "display_name": "Python 3 (ipykernel)",
   "language": "python",
   "name": "python3"
  },
  "language_info": {
   "codemirror_mode": {
    "name": "ipython",
    "version": 3
   },
   "file_extension": ".py",
   "mimetype": "text/x-python",
   "name": "python",
   "nbconvert_exporter": "python",
   "pygments_lexer": "ipython3",
   "version": "3.11.4"
  }
 },
 "nbformat": 4,
 "nbformat_minor": 5
}
