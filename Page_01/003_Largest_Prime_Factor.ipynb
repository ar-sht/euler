{
 "cells": [
  {
   "cell_type": "code",
   "execution_count": 13,
   "id": "7af9d9c7",
   "metadata": {},
   "outputs": [
    {
     "name": "stdout",
     "output_type": "stream",
     "text": [
      "6857.0\n"
     ]
    }
   ],
   "source": [
    "n = 600851475143\n",
    "\n",
    "last_factor = 1\n",
    "\n",
    "if n % 2 == 0:\n",
    "    last_factor = 2\n",
    "    n /= 2\n",
    "    while n % 2 == 0:\n",
    "        n /= 2\n",
    "\n",
    "factor = 3\n",
    "max_factor = n ** 0.5\n",
    "while n > 1 and factor <= max_factor:\n",
    "    if n % factor == 0:\n",
    "        n /= factor\n",
    "        last_factor = factor\n",
    "        while n % factor == 0:\n",
    "            n /= factor\n",
    "        max_factor = n ** 0.5\n",
    "    factor += 2\n",
    "    \n",
    "if n == 1:\n",
    "    print(last_factor)\n",
    "else:\n",
    "    print(n)"
   ]
  },
  {
   "cell_type": "code",
   "execution_count": null,
   "id": "1eb77e51",
   "metadata": {},
   "outputs": [],
   "source": []
  }
 ],
 "metadata": {
  "kernelspec": {
   "display_name": "Python 3 (ipykernel)",
   "language": "python",
   "name": "python3"
  },
  "language_info": {
   "codemirror_mode": {
    "name": "ipython",
    "version": 3
   },
   "file_extension": ".py",
   "mimetype": "text/x-python",
   "name": "python",
   "nbconvert_exporter": "python",
   "pygments_lexer": "ipython3",
   "version": "3.11.4"
  }
 },
 "nbformat": 4,
 "nbformat_minor": 5
}
