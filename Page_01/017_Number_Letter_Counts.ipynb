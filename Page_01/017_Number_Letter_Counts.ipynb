{
 "cells": [
  {
   "cell_type": "code",
   "execution_count": 1,
   "id": "fc388c0a",
   "metadata": {},
   "outputs": [],
   "source": [
    "ones = {\n",
    "    0: 0,\n",
    "    1: 3,\n",
    "    2: 3,\n",
    "    3: 5,\n",
    "    4: 4,\n",
    "    5: 4,\n",
    "    6: 3,\n",
    "    7: 5,\n",
    "    8: 5,\n",
    "    9: 4\n",
    "}\n",
    "\n",
    "tens = {\n",
    "    0: 0,\n",
    "    1: {\n",
    "        0: 3,\n",
    "        1: 6,\n",
    "        2: 6,\n",
    "        3: 8,\n",
    "        4: 8,\n",
    "        5: 7,\n",
    "        6: 7,\n",
    "        7: 9,\n",
    "        8: 8,\n",
    "        9: 8\n",
    "    },\n",
    "    2: 6,\n",
    "    3: 6,\n",
    "    4: 5,\n",
    "    5: 5,\n",
    "    6: 5,\n",
    "    7: 7,\n",
    "    8: 6,\n",
    "    9: 6\n",
    "}\n",
    "\n",
    "hundreds = {\n",
    "    0: 0,\n",
    "    1: 13,\n",
    "    2: 13,\n",
    "    3: 15,\n",
    "    4: 14,\n",
    "    5: 14,\n",
    "    6: 13,\n",
    "    7: 15,\n",
    "    8: 15,\n",
    "    9: 14\n",
    "}"
   ]
  },
  {
   "cell_type": "code",
   "execution_count": 2,
   "id": "e62b3e53",
   "metadata": {},
   "outputs": [
    {
     "data": {
      "text/plain": [
       "21124"
      ]
     },
     "execution_count": 2,
     "metadata": {},
     "output_type": "execute_result"
    }
   ],
   "source": [
    "total = 11\n",
    "for i in range(1, 1000):\n",
    "    length = 0\n",
    "    \n",
    "    one_dig = i % 10\n",
    "    ten_dig = (i // 10) % 10\n",
    "    hundred_dig = (i // 100) % 10\n",
    "    \n",
    "    length += hundreds[hundred_dig]\n",
    "    if i % 100 == 0:\n",
    "        length -= 3\n",
    "    \n",
    "    if ten_dig == 1:\n",
    "        length += tens[ten_dig][one_dig]\n",
    "    else:\n",
    "        length += tens[ten_dig]\n",
    "        length += ones[one_dig]\n",
    "    \n",
    "    total += length\n",
    "total"
   ]
  },
  {
   "cell_type": "code",
   "execution_count": null,
   "id": "e79a35b5",
   "metadata": {},
   "outputs": [],
   "source": []
  }
 ],
 "metadata": {
  "kernelspec": {
   "display_name": "Python 3 (ipykernel)",
   "language": "python",
   "name": "python3"
  },
  "language_info": {
   "codemirror_mode": {
    "name": "ipython",
    "version": 3
   },
   "file_extension": ".py",
   "mimetype": "text/x-python",
   "name": "python",
   "nbconvert_exporter": "python",
   "pygments_lexer": "ipython3",
   "version": "3.11.4"
  }
 },
 "nbformat": 4,
 "nbformat_minor": 5
}
