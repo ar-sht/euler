{
 "cells": [
  {
   "cell_type": "code",
   "execution_count": 4,
   "id": "583b6a09",
   "metadata": {
    "scrolled": true
   },
   "outputs": [
    {
     "data": {
      "text/plain": [
       "4613732"
      ]
     },
     "execution_count": 4,
     "metadata": {},
     "output_type": "execute_result"
    }
   ],
   "source": [
    "total = 0\n",
    "prev = 0\n",
    "val = 2\n",
    "\n",
    "while val <= 4_000_000:\n",
    "    total += val\n",
    "        \n",
    "    temp = val * 4 + prev\n",
    "    \n",
    "    prev = val\n",
    "    val = temp\n",
    "\n",
    "total"
   ]
  }
 ],
 "metadata": {
  "kernelspec": {
   "display_name": "Python 3 (ipykernel)",
   "language": "python",
   "name": "python3"
  },
  "language_info": {
   "codemirror_mode": {
    "name": "ipython",
    "version": 3
   },
   "file_extension": ".py",
   "mimetype": "text/x-python",
   "name": "python",
   "nbconvert_exporter": "python",
   "pygments_lexer": "ipython3",
   "version": "3.11.4"
  }
 },
 "nbformat": 4,
 "nbformat_minor": 5
}
