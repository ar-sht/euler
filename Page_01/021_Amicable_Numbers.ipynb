{
 "cells": [
  {
   "cell_type": "code",
   "execution_count": 1,
   "id": "020da487",
   "metadata": {},
   "outputs": [],
   "source": [
    "import math"
   ]
  },
  {
   "cell_type": "code",
   "execution_count": 2,
   "id": "323065f3",
   "metadata": {},
   "outputs": [],
   "source": [
    "def sum_divisors(n):\n",
    "    total = 1\n",
    "    p = 2\n",
    "    while p*p <= n and n > 1:\n",
    "        if n % p == 0:\n",
    "            j = p*p\n",
    "            n //= p\n",
    "            while n % p == 0:\n",
    "                j *= p\n",
    "                n //= p\n",
    "            total *= j - 1\n",
    "            total //= p - 1\n",
    "        if p == 2:\n",
    "            p = 3\n",
    "        else:\n",
    "            p += 2\n",
    "    if n > 1: total *= n + 1\n",
    "    return total"
   ]
  },
  {
   "cell_type": "code",
   "execution_count": 3,
   "id": "3aea6dba",
   "metadata": {},
   "outputs": [],
   "source": [
    "def sum_proper_divisors(n):\n",
    "    return sum_divisors(n) - n"
   ]
  },
  {
   "cell_type": "code",
   "execution_count": 5,
   "id": "69abc08b",
   "metadata": {},
   "outputs": [
    {
     "data": {
      "text/plain": [
       "31626"
      ]
     },
     "execution_count": 5,
     "metadata": {},
     "output_type": "execute_result"
    }
   ],
   "source": [
    "total = 0\n",
    "for a in range(2, 10_000):\n",
    "    b = sum_proper_divisors(a)\n",
    "    if b > a:\n",
    "        if sum_proper_divisors(b) == a:\n",
    "            total += a + b\n",
    "total"
   ]
  }
 ],
 "metadata": {
  "kernelspec": {
   "display_name": "Python 3 (ipykernel)",
   "language": "python",
   "name": "python3"
  },
  "language_info": {
   "codemirror_mode": {
    "name": "ipython",
    "version": 3
   },
   "file_extension": ".py",
   "mimetype": "text/x-python",
   "name": "python",
   "nbconvert_exporter": "python",
   "pygments_lexer": "ipython3",
   "version": "3.11.4"
  }
 },
 "nbformat": 4,
 "nbformat_minor": 5
}
