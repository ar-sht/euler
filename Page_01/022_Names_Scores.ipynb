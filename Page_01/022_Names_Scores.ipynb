{
 "cells": [
  {
   "cell_type": "code",
   "execution_count": 1,
   "id": "de8aa1a7",
   "metadata": {},
   "outputs": [],
   "source": [
    "with open(\"data/0022_names.txt\") as f:\n",
    "    names = [name.replace('\"', '') for name in f.read().split(\",\")]"
   ]
  },
  {
   "cell_type": "code",
   "execution_count": 2,
   "id": "edb9d501",
   "metadata": {},
   "outputs": [],
   "source": [
    "names.sort()"
   ]
  },
  {
   "cell_type": "code",
   "execution_count": 3,
   "id": "d3edfb9c",
   "metadata": {},
   "outputs": [],
   "source": [
    "def sum_name(name):\n",
    "    total = 0\n",
    "    for letter in name:\n",
    "        total += ord(letter) - 64\n",
    "    return total"
   ]
  },
  {
   "cell_type": "code",
   "execution_count": 4,
   "id": "5e069896",
   "metadata": {},
   "outputs": [
    {
     "data": {
      "text/plain": [
       "871198282"
      ]
     },
     "execution_count": 4,
     "metadata": {},
     "output_type": "execute_result"
    }
   ],
   "source": [
    "total = 0\n",
    "for i in range(len(names)):\n",
    "    total += sum_name(names[i]) * (i + 1)\n",
    "total"
   ]
  }
 ],
 "metadata": {
  "kernelspec": {
   "display_name": "Python 3 (ipykernel)",
   "language": "python",
   "name": "python3"
  },
  "language_info": {
   "codemirror_mode": {
    "name": "ipython",
    "version": 3
   },
   "file_extension": ".py",
   "mimetype": "text/x-python",
   "name": "python",
   "nbconvert_exporter": "python",
   "pygments_lexer": "ipython3",
   "version": "3.11.4"
  }
 },
 "nbformat": 4,
 "nbformat_minor": 5
}
